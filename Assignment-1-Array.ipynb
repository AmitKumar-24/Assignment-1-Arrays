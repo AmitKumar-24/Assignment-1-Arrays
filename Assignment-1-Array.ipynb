{
 "cells": [
  {
   "cell_type": "code",
   "execution_count": 1,
   "id": "ba9fb04a-7a0d-4f13-a4f7-d932d9036e60",
   "metadata": {},
   "outputs": [
    {
     "name": "stdout",
     "output_type": "stream",
     "text": [
      "[0, 1]\n"
     ]
    }
   ],
   "source": [
    "''' Q1.** Given an array of integers nums and an integer target, return indices of the two numbers such that they add up to target.\n",
    "\n",
    "You may assume that each input would have exactly one solution, and you may not use the same element twice.\n",
    "\n",
    "You can return the answer in any order.\n",
    "\n",
    "**Example:**\n",
    "Input: nums = [2,7,11,15], target = 9\n",
    "Output0 [0,1]\n",
    "\n",
    "**Explanation:** Because nums[0] + nums[1] == 9, we return [0, 1][\n",
    "'''\n",
    "\n",
    "def twoSum(nums, target):\n",
    "        for i in range(len(nums)):\n",
    "            for j in range(i+1, len(nums)):\n",
    "                if nums[j] == target - nums[i]:\n",
    "                    return [i,j]\n",
    "                \n",
    "nums = [2,7,11,15]\n",
    "target = 9\n",
    "tsum = twoSum(nums, target)\n",
    "print(tsum)"
   ]
  },
  {
   "cell_type": "code",
   "execution_count": 2,
   "id": "356fbc8f-3dab-42e3-8e10-bb89db39af92",
   "metadata": {},
   "outputs": [
    {
     "name": "stdout",
     "output_type": "stream",
     "text": [
      "2\n"
     ]
    }
   ],
   "source": [
    "'''Q2.** Given an integer array nums and an integer val, remove all occurrences of val in nums in-place. The order of the elements may be changed. Then return the number of elements in nums which are not equal to val.\n",
    "\n",
    "Consider the number of elements in nums which are not equal to val be k, to get accepted, you need to do the following things:\n",
    "\n",
    "- Change the array nums such that the first k elements of nums contain the elements which are not equal to val. The remaining elements of nums are not important as well as the size of nums.\n",
    "- Return k.\n",
    "\n",
    "**Example :**\n",
    "Input: nums = [3,2,2,3], val = 3\n",
    "Output: 2, nums = [2,2,_*,_*]\n",
    "\n",
    "**Explanation:** Your function should return k = 2, with the first two elements of nums being 2. It does not matter what you leave beyond the returned k (hence they are underscores)\n",
    "'''\n",
    "\n",
    "def removeElement(nums, val):\n",
    "        start = 0;\n",
    "        end = len(nums)-1\n",
    "        while start <= end:\n",
    "            if nums[end] == val:\n",
    "                end = end - 1\n",
    "            elif nums[start] == val:\n",
    "                temp = nums[end]\n",
    "                nums[end] = nums[start]\n",
    "                nums[start] = temp\n",
    "                start = start + 1\n",
    "                end = end - 1\n",
    "            else:\n",
    "                start = start + 1\n",
    "        \n",
    "        return end+1\n",
    "    \n",
    "nums = [3,2,2,3]\n",
    "val = 3\n",
    "RemoveElement = removeElement(nums, val)\n",
    "print(RemoveElement)"
   ]
  },
  {
   "cell_type": "code",
   "execution_count": 3,
   "id": "21601a42-f9d9-45ac-b345-97c6985d2eb1",
   "metadata": {},
   "outputs": [
    {
     "name": "stdout",
     "output_type": "stream",
     "text": [
      "2\n"
     ]
    }
   ],
   "source": [
    "'''<aside>\n",
    "💡 **Q3.** Given a sorted array of distinct integers and a target value, return the index if the target is found. If not, return the index where it would be if it were inserted in order.\n",
    "\n",
    "You must write an algorithm with O(log n) runtime complexity.\n",
    "\n",
    "**Example 1:**\n",
    "Input: nums = [1,3,5,6], target = 5\n",
    "\n",
    "Output: 2\n",
    "\n",
    "</aside>'''\n",
    "\n",
    "def searchInsert(nums, target):\n",
    "        start , end =0, len(nums) - 1\n",
    "        result = len(nums)\n",
    "\n",
    "        while start <= end:\n",
    "            mid = (start + end)//2\n",
    "\n",
    "            if nums[mid] == target:\n",
    "                return mid\n",
    "            elif nums[mid] < target:\n",
    "                start = mid +1\n",
    "            \n",
    "            else:\n",
    "                result = mid\n",
    "                end = mid - 1\n",
    "\n",
    "        return result\n",
    "\n",
    "nums = [1,3,5,6]\n",
    "target = 5\n",
    "searchidx = searchInsert(nums, target)\n",
    "print(searchidx)"
   ]
  },
  {
   "cell_type": "code",
   "execution_count": 4,
   "id": "ea9246dc-82e6-4907-845e-77c75b932512",
   "metadata": {},
   "outputs": [
    {
     "name": "stdout",
     "output_type": "stream",
     "text": [
      "[1, 2, 4]\n"
     ]
    }
   ],
   "source": [
    "'''<aside>\n",
    "💡 **Q4.** You are given a large integer represented as an integer array digits, where each digits[i] is the ith digit of the integer. The digits are ordered from most significant to least significant in left-to-right order. The large integer does not contain any leading 0's.\n",
    "\n",
    "Increment the large integer by one and return the resulting array of digits.\n",
    "\n",
    "**Example 1:**\n",
    "Input: digits = [1,2,3]\n",
    "Output: [1,2,4]\n",
    "\n",
    "**Explanation:** The array represents the integer 123.\n",
    "\n",
    "Incrementing by one gives 123 + 1 = 124.\n",
    "Thus, the result should be [1,2,4].\n",
    "\n",
    "</aside>'''\n",
    "\n",
    "def plusOne(digits):\n",
    "        strings = \"\"\n",
    "        for number in digits:\n",
    "            strings += str(number)\n",
    "\n",
    "        temp = str(int(strings) + 1)\n",
    "\n",
    "        return [int(temp[i]) for i in range(len(temp))]\n",
    "    \n",
    "digits = [1,2,3]\n",
    "dig = plusOne(digits)\n",
    "print(dig)"
   ]
  },
  {
   "cell_type": "code",
   "execution_count": 5,
   "id": "8842820a-b68b-49c7-99c3-a7a51e2975d8",
   "metadata": {},
   "outputs": [],
   "source": [
    "'''<aside>\n",
    "💡 **Q5.** You are given two integer arrays nums1 and nums2, sorted in non-decreasing order, and two integers m and n, representing the number of elements in nums1 and nums2 respectively.\n",
    "\n",
    "Merge nums1 and nums2 into a single array sorted in non-decreasing order.\n",
    "\n",
    "The final sorted array should not be returned by the function, but instead be stored inside the array nums1. To accommodate this, nums1 has a length of m + n, where the first m elements denote the elements that should be merged, and the last n elements are set to 0 and should be ignored. nums2 has a length of n.\n",
    "\n",
    "**Example 1:**\n",
    "Input: nums1 = [1,2,3,0,0,0], m = 3, nums2 = [2,5,6], n = 3\n",
    "Output: [1,2,2,3,5,6]\n",
    "\n",
    "**Explanation:** The arrays we are merging are [1,2,3] and [2,5,6].\n",
    "The result of the merge is [1,2,2,3,5,6] with the underlined elements coming from nums1.\n",
    "\n",
    "</aside>'''\n",
    "\n",
    "def merge(nums1, m, nums2, n):\n",
    "    for i in range(n):\n",
    "        nums1[m+i] = nums2[i]\n",
    "    nums1.sort()\n"
   ]
  },
  {
   "cell_type": "code",
   "execution_count": 6,
   "id": "c1ae30c4-eaef-4d0e-85aa-e287f3838c79",
   "metadata": {},
   "outputs": [
    {
     "name": "stdout",
     "output_type": "stream",
     "text": [
      "True\n"
     ]
    }
   ],
   "source": [
    "''' Q6. Given an integer array nums, return true if any value appears at least twice in the array, and return false if every element is distinct.\n",
    "\n",
    "**Example 1:**\n",
    "Input: nums = [1,2,3,1]\n",
    "\n",
    "Output: true\n",
    "\n",
    "'''\n",
    "\n",
    "\n",
    "def containsDuplicate(nums):\n",
    "    s = set()\n",
    "    for i in nums:\n",
    "        if i in s:\n",
    "            return True\n",
    "        else:\n",
    "            s.add(i)\n",
    "\n",
    "nums = [1,2,3,1]\n",
    "n = containsDuplicate(nums)\n",
    "print(n)"
   ]
  },
  {
   "cell_type": "code",
   "execution_count": 7,
   "id": "71e9d99a-034b-4b66-8243-23ccc8b6d579",
   "metadata": {},
   "outputs": [],
   "source": [
    "''' Q7.** Given an integer array nums, move all 0's to the end of it while maintaining the relative order of the nonzero elements.\n",
    "\n",
    "Note that you must do this in-place without making a copy of the array.\n",
    "\n",
    "**Example 1:**\n",
    "Input: nums = [0,1,0,3,12]\n",
    "Output: [1,3,12,0,0]\n",
    "\n",
    "'''\n",
    "\n",
    "def moveZeroes(nums):\n",
    "    moveZero = 0\n",
    "    for i in range(len(nums)):\n",
    "        if nums[i] == 0:\n",
    "            moveZero += 1\n",
    "        elif moveZero > 0:\n",
    "            temp = nums[i]\n",
    "            nums[i] = 0\n",
    "            nums[i- moveZero] = temp"
   ]
  },
  {
   "cell_type": "code",
   "execution_count": 8,
   "id": "2e504c62-1934-4d10-b3cb-11078b2c7d1c",
   "metadata": {},
   "outputs": [
    {
     "name": "stdout",
     "output_type": "stream",
     "text": [
      "[2, 3]\n"
     ]
    }
   ],
   "source": [
    "''' Q8.** You have a set of integers s, which originally contains all the numbers from 1 to n. Unfortunately, due to some error, one of the numbers in s got duplicated to another number in the set, which results in repetition of one number and loss of another number.\n",
    "\n",
    "You are given an integer array nums representing the data status of this set after the error.\n",
    "\n",
    "Find the number that occurs twice and the number that is missing and return them in the form of an array.\n",
    "\n",
    "**Example 1:**\n",
    "Input: nums = [1,2,2,4]\n",
    "Output: [2,3]\n",
    "'''\n",
    "from collections import Counter\n",
    "def findErrorNums(nums):\n",
    "        c = Counter(nums)\n",
    "        l=[0,0]\n",
    "        for i in range(1,len(nums)+1):\n",
    "            if c[i] == 2:\n",
    "                l[0]=i\n",
    "            if c[i] == 0:\n",
    "                l[1] =i\n",
    "        return l\n",
    "\n",
    "nums = [1,2,2,4]\n",
    "findErr = findErrorNums(nums)\n",
    "print(findErr)"
   ]
  }
 ],
 "metadata": {
  "kernelspec": {
   "display_name": "Python 3 (ipykernel)",
   "language": "python",
   "name": "python3"
  },
  "language_info": {
   "codemirror_mode": {
    "name": "ipython",
    "version": 3
   },
   "file_extension": ".py",
   "mimetype": "text/x-python",
   "name": "python",
   "nbconvert_exporter": "python",
   "pygments_lexer": "ipython3",
   "version": "3.10.8"
  }
 },
 "nbformat": 4,
 "nbformat_minor": 5
}
